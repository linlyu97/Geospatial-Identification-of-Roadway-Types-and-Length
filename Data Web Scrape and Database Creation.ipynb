{
 "cells": [
  {
   "cell_type": "markdown",
   "metadata": {},
   "source": [
    "S1100: primary road <br>\n",
    "S1200: secondary road <br>\n",
    "S1400: a local neighborhood road, rural road, or city street <br>\n",
    "Datum: Global Coordinate System North American Datum of 1983 (GCS NAD83) <br>"
   ]
  },
  {
   "cell_type": "code",
   "execution_count": 1,
   "metadata": {},
   "outputs": [],
   "source": [
    "import geopandas as gpd\n",
    "import matplotlib.axes\n",
    "from shapely.geometry import LineString\n",
    "import requests\n",
    "import io\n",
    "import zipfile\n",
    "import os\n",
    "from bs4 import BeautifulSoup\n",
    "import pandas as pd"
   ]
  },
  {
   "cell_type": "markdown",
   "metadata": {},
   "source": [
    "### Draft (please skip this part)"
   ]
  },
  {
   "cell_type": "code",
   "execution_count": 86,
   "metadata": {},
   "outputs": [
    {
     "name": "stdout",
     "output_type": "stream",
     "text": [
      "        LINEARID           FULLNAME RTTYP  MTFCC  \\\n",
      "0  1103672784948       McGee Rd Exn     M  S1400   \n",
      "1  1103677525952       Buena Vis Lp     M  S1400   \n",
      "2   110585079164         Co Rd 21 N     C  S1400   \n",
      "3   110585079123         Co Rd 19 N     C  S1400   \n",
      "4  1102603649960  Forest Ridge Rd N     M  S1400   \n",
      "\n",
      "                                            geometry  \n",
      "0  LINESTRING (-86.68571 32.604238, -86.685721 32...  \n",
      "1  LINESTRING (-86.44949299999999 32.425500999999...  \n",
      "2  LINESTRING (-86.63291199999999 32.437122999999...  \n",
      "3  LINESTRING (-86.65293299999999 32.433411, -86....  \n",
      "4  LINESTRING (-86.58537099999998 32.497436999999...  \n"
     ]
    }
   ],
   "source": [
    "shapefile = gpd.read_file('./tl_2017_01001_roads/tl_2017_01001_roads.shp')\n",
    "print(shapefile[0:5])"
   ]
  },
  {
   "cell_type": "code",
   "execution_count": 87,
   "metadata": {},
   "outputs": [
    {
     "data": {
      "text/plain": [
       "geopandas.geodataframe.GeoDataFrame"
      ]
     },
     "execution_count": 87,
     "metadata": {},
     "output_type": "execute_result"
    }
   ],
   "source": [
    "type(shapefile)"
   ]
  },
  {
   "cell_type": "code",
   "execution_count": 88,
   "metadata": {},
   "outputs": [
    {
     "name": "stdout",
     "output_type": "stream",
     "text": [
      "165    S1100\n",
      "502    S1100\n",
      "Name: MTFCC, dtype: object\n"
     ]
    }
   ],
   "source": [
    "print(shapefile.MTFCC[shapefile.MTFCC == 'S1100'])"
   ]
  },
  {
   "cell_type": "code",
   "execution_count": 90,
   "metadata": {},
   "outputs": [
    {
     "data": {
      "text/plain": [
       "<matplotlib.axes._subplots.AxesSubplot at 0x204c8f09e10>"
      ]
     },
     "execution_count": 90,
     "metadata": {},
     "output_type": "execute_result"
    },
    {
     "data": {
      "image/png": "[encoded data removed]",
      "text/plain": [
       "<Figure size 432x288 with 1 Axes>"
      ]
     },
     "metadata": {
      "needs_background": "light"
     },
     "output_type": "display_data"
    }
   ],
   "source": [
    "shapefile.loc[[0],'geometry'].plot()"
   ]
  },
  {
   "cell_type": "code",
   "execution_count": 91,
   "metadata": {},
   "outputs": [
    {
     "data": {
      "text/plain": [
       "29.481480687949407"
      ]
     },
     "execution_count": 91,
     "metadata": {},
     "output_type": "execute_result"
    }
   ],
   "source": [
    "sum(shapefile.geometry.length)"
   ]
  },
  {
   "cell_type": "code",
   "execution_count": 92,
   "metadata": {},
   "outputs": [
    {
     "name": "stdout",
     "output_type": "stream",
     "text": [
      "0.4931948681252485\n",
      "3.051733346792688\n",
      "25.80323389622992\n"
     ]
    }
   ],
   "source": [
    "print(sum(shapefile[shapefile.MTFCC == 'S1100'].geometry.length))\n",
    "print(sum(shapefile[shapefile.MTFCC == 'S1200'].geometry.length))\n",
    "print(sum(shapefile[shapefile.MTFCC == 'S1400'].geometry.length))"
   ]
  },
  {
   "cell_type": "code",
   "execution_count": null,
   "metadata": {},
   "outputs": [],
   "source": [
    "def get_zip(file_url):\n",
    "    url = requests.get(file_url)\n",
    "    zip_file = zipfile.ZipFile(io.BytesIO(url.content))\n",
    "    zip_names = zip_file.namelist()\n",
    "#     if len(zip_names) == 1:\n",
    "#         file_name = zip_names.pop()\n",
    "#         extracted_file = zip_file.open(file_name)\n",
    "#         return extracted_file\n",
    "    return [zip_file.open(file_name) for file_name in zip_names]\n",
    "\n",
    "filename = get_zip('https://www2.census.gov/geo/tiger/TIGER2017/ROADS/tl_2017_01001_roads.zip')"
   ]
  },
  {
   "cell_type": "markdown",
   "metadata": {},
   "source": [
    "#### Debug"
   ]
  },
  {
   "cell_type": "code",
   "execution_count": null,
   "metadata": {},
   "outputs": [],
   "source": [
    "url = requests.get('https://www2.census.gov/geo/tiger/TIGER2017/ROADS/tl_2017_12091_roads.zip')\n",
    "zip_file = zipfile.ZipFile(io.BytesIO(url.content))\n",
    "zip_names = zip_file.namelist()\n",
    "print(zip_names)"
   ]
  },
  {
   "cell_type": "code",
   "execution_count": null,
   "metadata": {},
   "outputs": [],
   "source": [
    "zip_file.open(zip_names[3])\n",
    "# archive = zipfile.ZipFile(zip_file, 'r')\n",
    "# shpfile = archive.open(zip_names[3])"
   ]
  },
  {
   "cell_type": "markdown",
   "metadata": {},
   "source": [
    ".shp, .dbf and .shx have to be extracted together (https://gis.stackexchange.com/questions/262505/python-cant-read-shapefile)"
   ]
  },
  {
   "cell_type": "code",
   "execution_count": null,
   "metadata": {},
   "outputs": [],
   "source": [
    "shp = zip_file.extract(zip_names[3])\n",
    "dbf = zip_file.extract(zip_names[1])\n",
    "shx = zip_file.extract(zip_names[-1])\n",
    "print(shp, dbf, shx)"
   ]
  },
  {
   "cell_type": "code",
   "execution_count": null,
   "metadata": {},
   "outputs": [],
   "source": [
    "shapefile_trial = gpd.read_file(shp)"
   ]
  },
  {
   "cell_type": "code",
   "execution_count": null,
   "metadata": {},
   "outputs": [],
   "source": [
    "sum(shapefile_trial.geometry.length)"
   ]
  },
  {
   "cell_type": "markdown",
   "metadata": {},
   "source": [
    "### Start from here"
   ]
  },
  {
   "cell_type": "markdown",
   "metadata": {},
   "source": [
    "#### Scrape links of all zipfiles:"
   ]
  },
  {
   "cell_type": "code",
   "execution_count": 2,
   "metadata": {
    "scrolled": false
   },
   "outputs": [],
   "source": [
    "# Getting the webpage, creating a Response object.\n",
    "response = requests.get('https://www2.census.gov/geo/tiger/TIGER2017/ROADS/')\n",
    " \n",
    "# Extracting the source code of the page.\n",
    "data = response.text\n",
    " \n",
    "# Passing the source code to BeautifulSoup to create a BeautifulSoup object for it.\n",
    "soup = BeautifulSoup(data, 'lxml')\n",
    " \n",
    "# Find all the links on the page that end in .zip\n",
    "extension = '.zip'\n",
    "\n",
    "zip_links = []\n",
    "\n",
    "for anchor in soup.findAll('a', href = True):\n",
    "    links = 'https://www2.census.gov/geo/tiger/TIGER2017/ROADS/' + anchor['href']\n",
    "    if links.endswith(extension):\n",
    "        zip_links.append(links)"
   ]
  },
  {
   "cell_type": "code",
   "execution_count": 22,
   "metadata": {
    "scrolled": true
   },
   "outputs": [
    {
     "data": {
      "text/plain": [
       "['https://www2.census.gov/geo/tiger/TIGER2017/ROADS/tl_2017_01001_roads.zip',\n",
       " 'https://www2.census.gov/geo/tiger/TIGER2017/ROADS/tl_2017_01003_roads.zip',\n",
       " 'https://www2.census.gov/geo/tiger/TIGER2017/ROADS/tl_2017_01005_roads.zip',\n",
       " 'https://www2.census.gov/geo/tiger/TIGER2017/ROADS/tl_2017_01007_roads.zip',\n",
       " 'https://www2.census.gov/geo/tiger/TIGER2017/ROADS/tl_2017_01009_roads.zip']"
      ]
     },
     "execution_count": 22,
     "metadata": {},
     "output_type": "execute_result"
    }
   ],
   "source": [
    "zip_links[0:5]"
   ]
  },
  {
   "cell_type": "markdown",
   "metadata": {},
   "source": [
    "#### Function to sum the length:"
   ]
  },
  {
   "cell_type": "code",
   "execution_count": 4,
   "metadata": {},
   "outputs": [],
   "source": [
    "def get_length(file_url):\n",
    "    url = requests.get(file_url)  # Read the zipfile link\n",
    "    zip_file = zipfile.ZipFile(io.BytesIO(url.content))\n",
    "    zip_names = zip_file.namelist()  # Get names of all the files in the folder\n",
    "    \n",
    "    shp = zip_file.extract(zip_names[3])  # .shp, .dbf and .shx must be downloaded together to the local disk\n",
    "    dbf = zip_file.extract(zip_names[1])\n",
    "    shx = zip_file.extract(zip_names[-1])\n",
    "    \n",
    "    shapefile = gpd.read_file(shp)  # Read the shapefile\n",
    "    \n",
    "    code = zip_names[3][-15:-10]  # Get the county code\n",
    "    len_tot = sum(shapefile.geometry.length)  # Sum the total length\n",
    "    len_1 = sum(shapefile[shapefile.MTFCC == 'S1100'].geometry.length)  # Sum the length of primary roads\n",
    "    len_2 = sum(shapefile[shapefile.MTFCC == 'S1200'].geometry.length)  # Sum the length of secondary roads\n",
    "    len_3 = sum(shapefile[shapefile.MTFCC == 'S1400'].geometry.length)  # Sum the length of tertiary/local roads\n",
    "    \n",
    "    try:\n",
    "        os.remove(shp)  # Remove the downloaded files (I didn't count but they probably would take 3-4 GB)\n",
    "        os.remove(dbf)\n",
    "        os.remove(shx)\n",
    "    except OSError as e:\n",
    "        print ('Error: %s - %s.' % (e.filename, e.strerror))\n",
    "    \n",
    "    return code, len_tot, len_1, len_2, len_3"
   ]
  },
  {
   "cell_type": "code",
   "execution_count": 5,
   "metadata": {},
   "outputs": [],
   "source": [
    "result_list = [[None for _ in range(5)] for _ in range(len(zip_links))]  # Create a 3231*5 list to store the results"
   ]
  },
  {
   "cell_type": "code",
   "execution_count": 6,
   "metadata": {},
   "outputs": [],
   "source": [
    "for i in range(0, len(zip_links)):\n",
    "    code, len_tot, len_1, len_2, len_3 = get_length(zip_links[i])\n",
    "    result_list[i] = [code, len_tot, len_1, len_2, len_3]"
   ]
  },
  {
   "cell_type": "markdown",
   "metadata": {},
   "source": [
    "#### Runtime:<br>\n",
    "03:03-03:53 (50 min; must keep the laptop awake all the way)"
   ]
  },
  {
   "cell_type": "code",
   "execution_count": 23,
   "metadata": {},
   "outputs": [
    {
     "data": {
      "text/plain": [
       "[['01001',\n",
       "  29.481480687949407,\n",
       "  0.4931948681252485,\n",
       "  3.051733346792688,\n",
       "  25.80323389622992],\n",
       " ['01003',\n",
       "  85.46564088381582,\n",
       "  1.9705231320043772,\n",
       "  12.521230842050938,\n",
       "  68.00415074948309],\n",
       " ['01005', 27.441135839543453, 0, 6.120281817796836, 20.427702698511336],\n",
       " ['01007', 28.753979704795853, 0, 4.346076830242731, 23.16849169063316],\n",
       " ['01009',\n",
       "  33.80040434943042,\n",
       "  0.3631884705325289,\n",
       "  4.515437808230292,\n",
       "  26.625752304433384]]"
      ]
     },
     "execution_count": 23,
     "metadata": {},
     "output_type": "execute_result"
    }
   ],
   "source": [
    "result_list[0:5]"
   ]
  },
  {
   "cell_type": "code",
   "execution_count": 8,
   "metadata": {},
   "outputs": [],
   "source": [
    "# Create dataframe\n",
    "result_df = pd.DataFrame(result_list, columns=['County_code', 'Total_length',\n",
    "                                               'Primary_length', 'Secondary_length', 'Local_length'])"
   ]
  },
  {
   "cell_type": "code",
   "execution_count": 18,
   "metadata": {},
   "outputs": [
    {
     "data": {
      "text/html": [
       "<div>\n",
       "<style scoped>\n",
       "    .dataframe tbody tr th:only-of-type {\n",
       "        vertical-align: middle;\n",
       "    }\n",
       "\n",
       "    .dataframe tbody tr th {\n",
       "        vertical-align: top;\n",
       "    }\n",
       "\n",
       "    .dataframe thead th {\n",
       "        text-align: right;\n",
       "    }\n",
       "</style>\n",
       "<table border=\"1\" class=\"dataframe\">\n",
       "  <thead>\n",
       "    <tr style=\"text-align: right;\">\n",
       "      <th></th>\n",
       "      <th>County_code</th>\n",
       "      <th>Total_length</th>\n",
       "      <th>Primary_length</th>\n",
       "      <th>Secondary_length</th>\n",
       "      <th>Local_length</th>\n",
       "    </tr>\n",
       "  </thead>\n",
       "  <tbody>\n",
       "    <tr>\n",
       "      <th>0</th>\n",
       "      <td>01001</td>\n",
       "      <td>29.481481</td>\n",
       "      <td>0.493195</td>\n",
       "      <td>3.051733</td>\n",
       "      <td>25.803234</td>\n",
       "    </tr>\n",
       "    <tr>\n",
       "      <th>1</th>\n",
       "      <td>01003</td>\n",
       "      <td>85.465641</td>\n",
       "      <td>1.970523</td>\n",
       "      <td>12.521231</td>\n",
       "      <td>68.004151</td>\n",
       "    </tr>\n",
       "    <tr>\n",
       "      <th>2</th>\n",
       "      <td>01005</td>\n",
       "      <td>27.441136</td>\n",
       "      <td>0.000000</td>\n",
       "      <td>6.120282</td>\n",
       "      <td>20.427703</td>\n",
       "    </tr>\n",
       "    <tr>\n",
       "      <th>3</th>\n",
       "      <td>01007</td>\n",
       "      <td>28.753980</td>\n",
       "      <td>0.000000</td>\n",
       "      <td>4.346077</td>\n",
       "      <td>23.168492</td>\n",
       "    </tr>\n",
       "    <tr>\n",
       "      <th>4</th>\n",
       "      <td>01009</td>\n",
       "      <td>33.800404</td>\n",
       "      <td>0.363188</td>\n",
       "      <td>4.515438</td>\n",
       "      <td>26.625752</td>\n",
       "    </tr>\n",
       "  </tbody>\n",
       "</table>\n",
       "</div>"
      ],
      "text/plain": [
       "  County_code  Total_length  Primary_length  Secondary_length  Local_length\n",
       "0       01001     29.481481        0.493195          3.051733     25.803234\n",
       "1       01003     85.465641        1.970523         12.521231     68.004151\n",
       "2       01005     27.441136        0.000000          6.120282     20.427703\n",
       "3       01007     28.753980        0.000000          4.346077     23.168492\n",
       "4       01009     33.800404        0.363188          4.515438     26.625752"
      ]
     },
     "execution_count": 18,
     "metadata": {},
     "output_type": "execute_result"
    }
   ],
   "source": [
    "result_df.head()"
   ]
  },
  {
   "cell_type": "markdown",
   "metadata": {},
   "source": [
    "#### Write to csv:"
   ]
  },
  {
   "cell_type": "markdown",
   "metadata": {},
   "source": [
    "With index"
   ]
  },
  {
   "cell_type": "code",
   "execution_count": 13,
   "metadata": {},
   "outputs": [],
   "source": [
    "result_df.to_csv('Road_length_index.csv')"
   ]
  },
  {
   "cell_type": "markdown",
   "metadata": {},
   "source": [
    "Without index"
   ]
  },
  {
   "cell_type": "code",
   "execution_count": 11,
   "metadata": {},
   "outputs": [],
   "source": [
    "result_df.to_csv('Road_length.csv', index = False)"
   ]
  },
  {
   "cell_type": "markdown",
   "metadata": {},
   "source": [
    "#### Read csv (remember to specify county code data type to avoid losing the leading zeros):"
   ]
  },
  {
   "cell_type": "code",
   "execution_count": 20,
   "metadata": {},
   "outputs": [],
   "source": [
    "result_read = pd.read_csv('Road_length.csv', dtype = {'County_code': object})"
   ]
  },
  {
   "cell_type": "code",
   "execution_count": 21,
   "metadata": {},
   "outputs": [
    {
     "data": {
      "text/html": [
       "<div>\n",
       "<style scoped>\n",
       "    .dataframe tbody tr th:only-of-type {\n",
       "        vertical-align: middle;\n",
       "    }\n",
       "\n",
       "    .dataframe tbody tr th {\n",
       "        vertical-align: top;\n",
       "    }\n",
       "\n",
       "    .dataframe thead th {\n",
       "        text-align: right;\n",
       "    }\n",
       "</style>\n",
       "<table border=\"1\" class=\"dataframe\">\n",
       "  <thead>\n",
       "    <tr style=\"text-align: right;\">\n",
       "      <th></th>\n",
       "      <th>County_code</th>\n",
       "      <th>Total_length</th>\n",
       "      <th>Primary_length</th>\n",
       "      <th>Secondary_length</th>\n",
       "      <th>Local_length</th>\n",
       "    </tr>\n",
       "  </thead>\n",
       "  <tbody>\n",
       "    <tr>\n",
       "      <th>0</th>\n",
       "      <td>01001</td>\n",
       "      <td>29.481481</td>\n",
       "      <td>0.493195</td>\n",
       "      <td>3.051733</td>\n",
       "      <td>25.803234</td>\n",
       "    </tr>\n",
       "    <tr>\n",
       "      <th>1</th>\n",
       "      <td>01003</td>\n",
       "      <td>85.465641</td>\n",
       "      <td>1.970523</td>\n",
       "      <td>12.521231</td>\n",
       "      <td>68.004151</td>\n",
       "    </tr>\n",
       "    <tr>\n",
       "      <th>2</th>\n",
       "      <td>01005</td>\n",
       "      <td>27.441136</td>\n",
       "      <td>0.000000</td>\n",
       "      <td>6.120282</td>\n",
       "      <td>20.427703</td>\n",
       "    </tr>\n",
       "    <tr>\n",
       "      <th>3</th>\n",
       "      <td>01007</td>\n",
       "      <td>28.753980</td>\n",
       "      <td>0.000000</td>\n",
       "      <td>4.346077</td>\n",
       "      <td>23.168492</td>\n",
       "    </tr>\n",
       "    <tr>\n",
       "      <th>4</th>\n",
       "      <td>01009</td>\n",
       "      <td>33.800404</td>\n",
       "      <td>0.363188</td>\n",
       "      <td>4.515438</td>\n",
       "      <td>26.625752</td>\n",
       "    </tr>\n",
       "  </tbody>\n",
       "</table>\n",
       "</div>"
      ],
      "text/plain": [
       "  County_code  Total_length  Primary_length  Secondary_length  Local_length\n",
       "0       01001     29.481481        0.493195          3.051733     25.803234\n",
       "1       01003     85.465641        1.970523         12.521231     68.004151\n",
       "2       01005     27.441136        0.000000          6.120282     20.427703\n",
       "3       01007     28.753980        0.000000          4.346077     23.168492\n",
       "4       01009     33.800404        0.363188          4.515438     26.625752"
      ]
     },
     "execution_count": 21,
     "metadata": {},
     "output_type": "execute_result"
    }
   ],
   "source": [
    "result_read.head()"
   ]
  },
  {
   "cell_type": "markdown",
   "metadata": {},
   "source": [
    "#### Read county code text file: <br>\n",
    "Scraped (= copied & pasted) from source: <br>\n",
    "County FIPS Codes: https://www.nrcs.usda.gov/wps/portal/nrcs/detail/national/home/?cid=nrcs143_013697"
   ]
  },
  {
   "cell_type": "code",
   "execution_count": 37,
   "metadata": {},
   "outputs": [],
   "source": [
    "code_df = pd.read_csv('County_code.txt', engine = 'python', sep = '\\t', header = 0, dtype = {'FIPS': object})\n",
    "\n",
    "code_df.rename(columns = {'FIPS': 'County_code'}, inplace = True)  # Rename column for later joining dataframes"
   ]
  },
  {
   "cell_type": "code",
   "execution_count": 38,
   "metadata": {},
   "outputs": [
    {
     "data": {
      "text/html": [
       "<div>\n",
       "<style scoped>\n",
       "    .dataframe tbody tr th:only-of-type {\n",
       "        vertical-align: middle;\n",
       "    }\n",
       "\n",
       "    .dataframe tbody tr th {\n",
       "        vertical-align: top;\n",
       "    }\n",
       "\n",
       "    .dataframe thead th {\n",
       "        text-align: right;\n",
       "    }\n",
       "</style>\n",
       "<table border=\"1\" class=\"dataframe\">\n",
       "  <thead>\n",
       "    <tr style=\"text-align: right;\">\n",
       "      <th></th>\n",
       "      <th>County_code</th>\n",
       "      <th>Name</th>\n",
       "      <th>State</th>\n",
       "    </tr>\n",
       "  </thead>\n",
       "  <tbody>\n",
       "    <tr>\n",
       "      <th>0</th>\n",
       "      <td>01001</td>\n",
       "      <td>Autauga</td>\n",
       "      <td>AL</td>\n",
       "    </tr>\n",
       "    <tr>\n",
       "      <th>1</th>\n",
       "      <td>01003</td>\n",
       "      <td>Baldwin</td>\n",
       "      <td>AL</td>\n",
       "    </tr>\n",
       "    <tr>\n",
       "      <th>2</th>\n",
       "      <td>01005</td>\n",
       "      <td>Barbour</td>\n",
       "      <td>AL</td>\n",
       "    </tr>\n",
       "    <tr>\n",
       "      <th>3</th>\n",
       "      <td>01007</td>\n",
       "      <td>Bibb</td>\n",
       "      <td>AL</td>\n",
       "    </tr>\n",
       "    <tr>\n",
       "      <th>4</th>\n",
       "      <td>01009</td>\n",
       "      <td>Blount</td>\n",
       "      <td>AL</td>\n",
       "    </tr>\n",
       "  </tbody>\n",
       "</table>\n",
       "</div>"
      ],
      "text/plain": [
       "  County_code     Name State\n",
       "0       01001  Autauga    AL\n",
       "1       01003  Baldwin    AL\n",
       "2       01005  Barbour    AL\n",
       "3       01007     Bibb    AL\n",
       "4       01009   Blount    AL"
      ]
     },
     "execution_count": 38,
     "metadata": {},
     "output_type": "execute_result"
    }
   ],
   "source": [
    "code_df.head()"
   ]
  },
  {
   "cell_type": "markdown",
   "metadata": {},
   "source": [
    "#### Join length and county information (key = county code):"
   ]
  },
  {
   "cell_type": "code",
   "execution_count": 113,
   "metadata": {},
   "outputs": [],
   "source": [
    "length_code_df = result_read.join(code_df.set_index('County_code'), on = 'County_code')"
   ]
  },
  {
   "cell_type": "code",
   "execution_count": 114,
   "metadata": {},
   "outputs": [
    {
     "data": {
      "text/html": [
       "<div>\n",
       "<style scoped>\n",
       "    .dataframe tbody tr th:only-of-type {\n",
       "        vertical-align: middle;\n",
       "    }\n",
       "\n",
       "    .dataframe tbody tr th {\n",
       "        vertical-align: top;\n",
       "    }\n",
       "\n",
       "    .dataframe thead th {\n",
       "        text-align: right;\n",
       "    }\n",
       "</style>\n",
       "<table border=\"1\" class=\"dataframe\">\n",
       "  <thead>\n",
       "    <tr style=\"text-align: right;\">\n",
       "      <th></th>\n",
       "      <th>County_code</th>\n",
       "      <th>Total_length</th>\n",
       "      <th>Primary_length</th>\n",
       "      <th>Secondary_length</th>\n",
       "      <th>Local_length</th>\n",
       "      <th>Name</th>\n",
       "      <th>State</th>\n",
       "    </tr>\n",
       "  </thead>\n",
       "  <tbody>\n",
       "    <tr>\n",
       "      <th>0</th>\n",
       "      <td>01001</td>\n",
       "      <td>29.481481</td>\n",
       "      <td>0.493195</td>\n",
       "      <td>3.051733</td>\n",
       "      <td>25.803234</td>\n",
       "      <td>Autauga</td>\n",
       "      <td>AL</td>\n",
       "    </tr>\n",
       "    <tr>\n",
       "      <th>1</th>\n",
       "      <td>01003</td>\n",
       "      <td>85.465641</td>\n",
       "      <td>1.970523</td>\n",
       "      <td>12.521231</td>\n",
       "      <td>68.004151</td>\n",
       "      <td>Baldwin</td>\n",
       "      <td>AL</td>\n",
       "    </tr>\n",
       "    <tr>\n",
       "      <th>2</th>\n",
       "      <td>01005</td>\n",
       "      <td>27.441136</td>\n",
       "      <td>0.000000</td>\n",
       "      <td>6.120282</td>\n",
       "      <td>20.427703</td>\n",
       "      <td>Barbour</td>\n",
       "      <td>AL</td>\n",
       "    </tr>\n",
       "    <tr>\n",
       "      <th>3</th>\n",
       "      <td>01007</td>\n",
       "      <td>28.753980</td>\n",
       "      <td>0.000000</td>\n",
       "      <td>4.346077</td>\n",
       "      <td>23.168492</td>\n",
       "      <td>Bibb</td>\n",
       "      <td>AL</td>\n",
       "    </tr>\n",
       "    <tr>\n",
       "      <th>4</th>\n",
       "      <td>01009</td>\n",
       "      <td>33.800404</td>\n",
       "      <td>0.363188</td>\n",
       "      <td>4.515438</td>\n",
       "      <td>26.625752</td>\n",
       "      <td>Blount</td>\n",
       "      <td>AL</td>\n",
       "    </tr>\n",
       "  </tbody>\n",
       "</table>\n",
       "</div>"
      ],
      "text/plain": [
       "  County_code  Total_length  Primary_length  Secondary_length  Local_length  \\\n",
       "0       01001     29.481481        0.493195          3.051733     25.803234   \n",
       "1       01003     85.465641        1.970523         12.521231     68.004151   \n",
       "2       01005     27.441136        0.000000          6.120282     20.427703   \n",
       "3       01007     28.753980        0.000000          4.346077     23.168492   \n",
       "4       01009     33.800404        0.363188          4.515438     26.625752   \n",
       "\n",
       "      Name State  \n",
       "0  Autauga    AL  \n",
       "1  Baldwin    AL  \n",
       "2  Barbour    AL  \n",
       "3     Bibb    AL  \n",
       "4   Blount    AL  "
      ]
     },
     "execution_count": 114,
     "metadata": {},
     "output_type": "execute_result"
    }
   ],
   "source": [
    "length_code_df.head()"
   ]
  },
  {
   "cell_type": "code",
   "execution_count": 115,
   "metadata": {},
   "outputs": [
    {
     "name": "stdout",
     "output_type": "stream",
     "text": [
      "3231\n",
      "3232\n",
      "3235\n"
     ]
    }
   ],
   "source": [
    "print(len(result_read))\n",
    "print(len(code_df))\n",
    "print(len(length_code_df))"
   ]
  },
  {
   "cell_type": "markdown",
   "metadata": {},
   "source": [
    "Tricky thing: there are 3231 records of shapefiles, 3232 of county code, but 3235 rows after joining the two tables."
   ]
  },
  {
   "cell_type": "code",
   "execution_count": 116,
   "metadata": {},
   "outputs": [
    {
     "name": "stdout",
     "output_type": "stream",
     "text": [
      "Int64Index([76, 81, 87, 88, 90, 93, 251, 362, 548, 2412, 3144, 3169, 3185], dtype='int64')\n"
     ]
    }
   ],
   "source": [
    "print(length_code_df.loc[pd.isna(length_code_df['Name']), :].index)"
   ]
  },
  {
   "cell_type": "code",
   "execution_count": 117,
   "metadata": {},
   "outputs": [
    {
     "data": {
      "text/plain": [
       "County_code            02105\n",
       "Total_length         7.29188\n",
       "Primary_length             0\n",
       "Secondary_length    0.133991\n",
       "Local_length         5.62058\n",
       "Name                     NaN\n",
       "State                    NaN\n",
       "Name: 76, dtype: object"
      ]
     },
     "execution_count": 117,
     "metadata": {},
     "output_type": "execute_result"
    }
   ],
   "source": [
    "length_code_df.iloc[76, :]"
   ]
  },
  {
   "cell_type": "markdown",
   "metadata": {},
   "source": [
    "Above shows a case of shapefile-derived fields having valid numbers while county info not found. <br>\n",
    "If we join county code with shapefile results (c.f. shapefile results joined with county code), out of the total 3232 rows, there will be 10 rows with shapefile results missing (shown below)."
   ]
  },
  {
   "cell_type": "code",
   "execution_count": 48,
   "metadata": {},
   "outputs": [
    {
     "name": "stdout",
     "output_type": "stream",
     "text": [
      "Int64Index([85, 87, 90, 91, 329, 1650, 2414, 2913, 2918, 2946], dtype='int64')\n"
     ]
    }
   ],
   "source": [
    "# print(length_code_df.loc[pd.isna(length_code_df['Total_length']), :].index)"
   ]
  },
  {
   "cell_type": "markdown",
   "metadata": {},
   "source": [
    "13 cnty code w/o names, 3222 w/ all fields not nan, 10 w/o shapefiles, what does this imply? <br>\n",
    "3222 exact matches, 10 in cnty code df but not in TIGER (has county info but no shapefiles), 13 in TIGER but not in cnty code df (has shapefiles but no county info). <br>\n",
    "It turned out that some FIPS codes are shared by more than one county, if not caused by the unreliable data source or my ignorance (hopefully not..). <br>\n",
    "These codes are 60020 (row 3143-3145; shared by three counties), 69120 (row 3152-3153; shared by two), 66010 (row 3148-3149; shared by two)."
   ]
  },
  {
   "cell_type": "code",
   "execution_count": 118,
   "metadata": {},
   "outputs": [
    {
     "data": {
      "text/plain": [
       "60020    3\n",
       "69120    2\n",
       "66010    2\n",
       "28059    1\n",
       "27025    1\n",
       "Name: County_code, dtype: int64"
      ]
     },
     "execution_count": 118,
     "metadata": {},
     "output_type": "execute_result"
    }
   ],
   "source": [
    "length_code_df['County_code'].value_counts().head()"
   ]
  },
  {
   "cell_type": "markdown",
   "metadata": {},
   "source": [
    "In details:"
   ]
  },
  {
   "cell_type": "code",
   "execution_count": 167,
   "metadata": {},
   "outputs": [
    {
     "name": "stdout",
     "output_type": "stream",
     "text": [
      "Int64Index([3146, 3146], dtype='int64')\n",
      "Int64Index([3143, 3143, 3143], dtype='int64')\n",
      "Int64Index([3149, 3149], dtype='int64')\n"
     ]
    }
   ],
   "source": [
    "print(length_code_df.index[length_code_df['County_code'] == '66010' ])\n",
    "print(length_code_df.index[length_code_df['County_code'] == '60020' ])\n",
    "print(length_code_df.index[length_code_df['County_code'] == '69120' ])"
   ]
  },
  {
   "cell_type": "code",
   "execution_count": 168,
   "metadata": {},
   "outputs": [
    {
     "data": {
      "text/html": [
       "<div>\n",
       "<style scoped>\n",
       "    .dataframe tbody tr th:only-of-type {\n",
       "        vertical-align: middle;\n",
       "    }\n",
       "\n",
       "    .dataframe tbody tr th {\n",
       "        vertical-align: top;\n",
       "    }\n",
       "\n",
       "    .dataframe thead th {\n",
       "        text-align: right;\n",
       "    }\n",
       "</style>\n",
       "<table border=\"1\" class=\"dataframe\">\n",
       "  <thead>\n",
       "    <tr style=\"text-align: right;\">\n",
       "      <th></th>\n",
       "      <th>County_code</th>\n",
       "      <th>Name</th>\n",
       "      <th>State</th>\n",
       "      <th>Total_length</th>\n",
       "      <th>Primary_length</th>\n",
       "      <th>Secondary_length</th>\n",
       "      <th>Local_length</th>\n",
       "    </tr>\n",
       "  </thead>\n",
       "  <tbody>\n",
       "    <tr>\n",
       "      <th>3146</th>\n",
       "      <td>66010</td>\n",
       "      <td>Cocos Island</td>\n",
       "      <td>MP</td>\n",
       "      <td>21.667835</td>\n",
       "      <td>0.0</td>\n",
       "      <td>4.216978</td>\n",
       "      <td>15.985018</td>\n",
       "    </tr>\n",
       "    <tr>\n",
       "      <th>3146</th>\n",
       "      <td>66010</td>\n",
       "      <td>Guam</td>\n",
       "      <td>GU</td>\n",
       "      <td>21.667835</td>\n",
       "      <td>0.0</td>\n",
       "      <td>4.216978</td>\n",
       "      <td>15.985018</td>\n",
       "    </tr>\n",
       "  </tbody>\n",
       "</table>\n",
       "</div>"
      ],
      "text/plain": [
       "     County_code          Name State  Total_length  Primary_length  \\\n",
       "3146       66010  Cocos Island    MP     21.667835             0.0   \n",
       "3146       66010          Guam    GU     21.667835             0.0   \n",
       "\n",
       "      Secondary_length  Local_length  \n",
       "3146          4.216978     15.985018  \n",
       "3146          4.216978     15.985018  "
      ]
     },
     "execution_count": 168,
     "metadata": {},
     "output_type": "execute_result"
    }
   ],
   "source": [
    "length_code_df.iloc[3148:3150, :]"
   ]
  },
  {
   "cell_type": "code",
   "execution_count": 169,
   "metadata": {},
   "outputs": [
    {
     "data": {
      "text/html": [
       "<div>\n",
       "<style scoped>\n",
       "    .dataframe tbody tr th:only-of-type {\n",
       "        vertical-align: middle;\n",
       "    }\n",
       "\n",
       "    .dataframe tbody tr th {\n",
       "        vertical-align: top;\n",
       "    }\n",
       "\n",
       "    .dataframe thead th {\n",
       "        text-align: right;\n",
       "    }\n",
       "</style>\n",
       "<table border=\"1\" class=\"dataframe\">\n",
       "  <thead>\n",
       "    <tr style=\"text-align: right;\">\n",
       "      <th></th>\n",
       "      <th>County_code</th>\n",
       "      <th>Name</th>\n",
       "      <th>State</th>\n",
       "      <th>Total_length</th>\n",
       "      <th>Primary_length</th>\n",
       "      <th>Secondary_length</th>\n",
       "      <th>Local_length</th>\n",
       "    </tr>\n",
       "  </thead>\n",
       "  <tbody>\n",
       "    <tr>\n",
       "      <th>3143</th>\n",
       "      <td>60020</td>\n",
       "      <td>Manua</td>\n",
       "      <td>AS</td>\n",
       "      <td>0.417914</td>\n",
       "      <td>0.0</td>\n",
       "      <td>0.085862</td>\n",
       "      <td>0.289747</td>\n",
       "    </tr>\n",
       "    <tr>\n",
       "      <th>3143</th>\n",
       "      <td>60020</td>\n",
       "      <td>Ofu</td>\n",
       "      <td>AS</td>\n",
       "      <td>0.417914</td>\n",
       "      <td>0.0</td>\n",
       "      <td>0.085862</td>\n",
       "      <td>0.289747</td>\n",
       "    </tr>\n",
       "    <tr>\n",
       "      <th>3143</th>\n",
       "      <td>60020</td>\n",
       "      <td>Olosega</td>\n",
       "      <td>AS</td>\n",
       "      <td>0.417914</td>\n",
       "      <td>0.0</td>\n",
       "      <td>0.085862</td>\n",
       "      <td>0.289747</td>\n",
       "    </tr>\n",
       "  </tbody>\n",
       "</table>\n",
       "</div>"
      ],
      "text/plain": [
       "     County_code     Name State  Total_length  Primary_length  \\\n",
       "3143       60020    Manua    AS      0.417914             0.0   \n",
       "3143       60020      Ofu    AS      0.417914             0.0   \n",
       "3143       60020  Olosega    AS      0.417914             0.0   \n",
       "\n",
       "      Secondary_length  Local_length  \n",
       "3143          0.085862      0.289747  \n",
       "3143          0.085862      0.289747  \n",
       "3143          0.085862      0.289747  "
      ]
     },
     "execution_count": 169,
     "metadata": {},
     "output_type": "execute_result"
    }
   ],
   "source": [
    "length_code_df.iloc[3143:3146, :]"
   ]
  },
  {
   "cell_type": "code",
   "execution_count": 170,
   "metadata": {},
   "outputs": [
    {
     "data": {
      "text/html": [
       "<div>\n",
       "<style scoped>\n",
       "    .dataframe tbody tr th:only-of-type {\n",
       "        vertical-align: middle;\n",
       "    }\n",
       "\n",
       "    .dataframe tbody tr th {\n",
       "        vertical-align: top;\n",
       "    }\n",
       "\n",
       "    .dataframe thead th {\n",
       "        text-align: right;\n",
       "    }\n",
       "</style>\n",
       "<table border=\"1\" class=\"dataframe\">\n",
       "  <thead>\n",
       "    <tr style=\"text-align: right;\">\n",
       "      <th></th>\n",
       "      <th>County_code</th>\n",
       "      <th>Name</th>\n",
       "      <th>State</th>\n",
       "      <th>Total_length</th>\n",
       "      <th>Primary_length</th>\n",
       "      <th>Secondary_length</th>\n",
       "      <th>Local_length</th>\n",
       "    </tr>\n",
       "  </thead>\n",
       "  <tbody>\n",
       "    <tr>\n",
       "      <th>3149</th>\n",
       "      <td>69120</td>\n",
       "      <td>Aguijan</td>\n",
       "      <td>MP</td>\n",
       "      <td>1.860377</td>\n",
       "      <td>0.0</td>\n",
       "      <td>0.0</td>\n",
       "      <td>1.820647</td>\n",
       "    </tr>\n",
       "    <tr>\n",
       "      <th>3149</th>\n",
       "      <td>69120</td>\n",
       "      <td>Tinian</td>\n",
       "      <td>MP</td>\n",
       "      <td>1.860377</td>\n",
       "      <td>0.0</td>\n",
       "      <td>0.0</td>\n",
       "      <td>1.820647</td>\n",
       "    </tr>\n",
       "  </tbody>\n",
       "</table>\n",
       "</div>"
      ],
      "text/plain": [
       "     County_code     Name State  Total_length  Primary_length  \\\n",
       "3149       69120  Aguijan    MP      1.860377             0.0   \n",
       "3149       69120   Tinian    MP      1.860377             0.0   \n",
       "\n",
       "      Secondary_length  Local_length  \n",
       "3149               0.0      1.820647  \n",
       "3149               0.0      1.820647  "
      ]
     },
     "execution_count": 170,
     "metadata": {},
     "output_type": "execute_result"
    }
   ],
   "source": [
    "length_code_df.iloc[3152:3154, :]"
   ]
  },
  {
   "cell_type": "markdown",
   "metadata": {},
   "source": [
    "I chose to keep all rows associated with the double/triple counting FIPS codes. The road lengths (total, primary, secondary, tertiary) are the lengths in all the regions using that specific code. <br> These \"duplicated\" rows could be removed if needed."
   ]
  },
  {
   "cell_type": "code",
   "execution_count": 122,
   "metadata": {},
   "outputs": [],
   "source": [
    "# Change the order of dataframe columns so it looks better\n",
    "length_code_df = length_code_df[['County_code', 'Name', 'State', 'Total_length',\n",
    "                                 'Primary_length', 'Secondary_length', 'Local_length']]"
   ]
  },
  {
   "cell_type": "markdown",
   "metadata": {},
   "source": [
    "#### Sum road lengths for each state:"
   ]
  },
  {
   "cell_type": "code",
   "execution_count": 133,
   "metadata": {},
   "outputs": [
    {
     "data": {
      "text/html": [
       "<div>\n",
       "<style scoped>\n",
       "    .dataframe tbody tr th:only-of-type {\n",
       "        vertical-align: middle;\n",
       "    }\n",
       "\n",
       "    .dataframe tbody tr th {\n",
       "        vertical-align: top;\n",
       "    }\n",
       "\n",
       "    .dataframe thead th {\n",
       "        text-align: right;\n",
       "    }\n",
       "</style>\n",
       "<table border=\"1\" class=\"dataframe\">\n",
       "  <thead>\n",
       "    <tr style=\"text-align: right;\">\n",
       "      <th></th>\n",
       "      <th>Total_length</th>\n",
       "      <th>Primary_length</th>\n",
       "      <th>Secondary_length</th>\n",
       "      <th>Local_length</th>\n",
       "    </tr>\n",
       "    <tr>\n",
       "      <th>State</th>\n",
       "      <th></th>\n",
       "      <th></th>\n",
       "      <th></th>\n",
       "      <th></th>\n",
       "    </tr>\n",
       "  </thead>\n",
       "  <tbody>\n",
       "    <tr>\n",
       "      <th>AK</th>\n",
       "      <td>895.233093</td>\n",
       "      <td>0.000000</td>\n",
       "      <td>132.838202</td>\n",
       "      <td>341.759584</td>\n",
       "    </tr>\n",
       "    <tr>\n",
       "      <th>AL</th>\n",
       "      <td>2664.808526</td>\n",
       "      <td>36.268401</td>\n",
       "      <td>364.708086</td>\n",
       "      <td>2125.740596</td>\n",
       "    </tr>\n",
       "    <tr>\n",
       "      <th>AR</th>\n",
       "      <td>2673.007555</td>\n",
       "      <td>33.377168</td>\n",
       "      <td>372.063020</td>\n",
       "      <td>2082.519079</td>\n",
       "    </tr>\n",
       "    <tr>\n",
       "      <th>AS</th>\n",
       "      <td>3.516936</td>\n",
       "      <td>0.000000</td>\n",
       "      <td>1.224505</td>\n",
       "      <td>2.014096</td>\n",
       "    </tr>\n",
       "    <tr>\n",
       "      <th>AZ</th>\n",
       "      <td>3225.156975</td>\n",
       "      <td>50.765057</td>\n",
       "      <td>146.140749</td>\n",
       "      <td>2718.015609</td>\n",
       "    </tr>\n",
       "  </tbody>\n",
       "</table>\n",
       "</div>"
      ],
      "text/plain": [
       "       Total_length  Primary_length  Secondary_length  Local_length\n",
       "State                                                              \n",
       "AK       895.233093        0.000000        132.838202    341.759584\n",
       "AL      2664.808526       36.268401        364.708086   2125.740596\n",
       "AR      2673.007555       33.377168        372.063020   2082.519079\n",
       "AS         3.516936        0.000000          1.224505      2.014096\n",
       "AZ      3225.156975       50.765057        146.140749   2718.015609"
      ]
     },
     "execution_count": 133,
     "metadata": {},
     "output_type": "execute_result"
    }
   ],
   "source": [
    "# Remove duplicated rows\n",
    "length_code_drop = length_code_df.drop_duplicates(subset = 'County_code', keep = False, inplace = False)\n",
    "\n",
    "# Remove fields County_code and Name\n",
    "length_code_drop.drop(['County_code', 'Name'], axis = 1, inplace = True)\n",
    "\n",
    "# Group by State and sum road lengths\n",
    "length_state_df = length_code_drop.groupby(['State']).sum()\n",
    "\n",
    "length_state_df.head()"
   ]
  },
  {
   "cell_type": "markdown",
   "metadata": {},
   "source": [
    "I try to anually resolve the rows without matching FIPS code: <br>\n",
    "Unmatched county codes: 02105, 02158, 02195, 02198, 02230, 02275, 08014, 12086, 15005, 46102, 60040, 72039, 72069. <br>\n",
    "Only 02198 can be found here (https://www.census.gov/geographies/reference-files/2017/demo/popest/2017-fips.html/all-geocodes-v2017.xlsx) - state code \"36\" (New York) area name \"Angola Village\"."
   ]
  },
  {
   "cell_type": "code",
   "execution_count": 152,
   "metadata": {},
   "outputs": [
    {
     "data": {
      "text/html": [
       "<div>\n",
       "<style scoped>\n",
       "    .dataframe tbody tr th:only-of-type {\n",
       "        vertical-align: middle;\n",
       "    }\n",
       "\n",
       "    .dataframe tbody tr th {\n",
       "        vertical-align: top;\n",
       "    }\n",
       "\n",
       "    .dataframe thead th {\n",
       "        text-align: right;\n",
       "    }\n",
       "</style>\n",
       "<table border=\"1\" class=\"dataframe\">\n",
       "  <thead>\n",
       "    <tr style=\"text-align: right;\">\n",
       "      <th></th>\n",
       "      <th>County_code</th>\n",
       "      <th>Name</th>\n",
       "      <th>State</th>\n",
       "      <th>Total_length</th>\n",
       "      <th>Primary_length</th>\n",
       "      <th>Secondary_length</th>\n",
       "      <th>Local_length</th>\n",
       "    </tr>\n",
       "  </thead>\n",
       "  <tbody>\n",
       "    <tr>\n",
       "      <th>76</th>\n",
       "      <td>02105</td>\n",
       "      <td>NaN</td>\n",
       "      <td>NaN</td>\n",
       "      <td>7.291885</td>\n",
       "      <td>0.000000</td>\n",
       "      <td>0.133991</td>\n",
       "      <td>5.620579</td>\n",
       "    </tr>\n",
       "    <tr>\n",
       "      <th>81</th>\n",
       "      <td>02158</td>\n",
       "      <td>NaN</td>\n",
       "      <td>NaN</td>\n",
       "      <td>8.919340</td>\n",
       "      <td>0.000000</td>\n",
       "      <td>0.000000</td>\n",
       "      <td>2.243305</td>\n",
       "    </tr>\n",
       "    <tr>\n",
       "      <th>87</th>\n",
       "      <td>02195</td>\n",
       "      <td>NaN</td>\n",
       "      <td>NaN</td>\n",
       "      <td>7.293124</td>\n",
       "      <td>0.000000</td>\n",
       "      <td>0.599208</td>\n",
       "      <td>4.404794</td>\n",
       "    </tr>\n",
       "    <tr>\n",
       "      <th>88</th>\n",
       "      <td>02198</td>\n",
       "      <td>NaN</td>\n",
       "      <td>NaN</td>\n",
       "      <td>19.046486</td>\n",
       "      <td>0.000000</td>\n",
       "      <td>1.368866</td>\n",
       "      <td>14.739086</td>\n",
       "    </tr>\n",
       "    <tr>\n",
       "      <th>90</th>\n",
       "      <td>02230</td>\n",
       "      <td>NaN</td>\n",
       "      <td>NaN</td>\n",
       "      <td>1.753407</td>\n",
       "      <td>0.000000</td>\n",
       "      <td>0.478176</td>\n",
       "      <td>0.717040</td>\n",
       "    </tr>\n",
       "    <tr>\n",
       "      <th>93</th>\n",
       "      <td>02275</td>\n",
       "      <td>NaN</td>\n",
       "      <td>NaN</td>\n",
       "      <td>2.896570</td>\n",
       "      <td>0.000000</td>\n",
       "      <td>0.000000</td>\n",
       "      <td>1.968931</td>\n",
       "    </tr>\n",
       "    <tr>\n",
       "      <th>251</th>\n",
       "      <td>08014</td>\n",
       "      <td>NaN</td>\n",
       "      <td>NaN</td>\n",
       "      <td>8.344418</td>\n",
       "      <td>0.196412</td>\n",
       "      <td>1.456495</td>\n",
       "      <td>5.694466</td>\n",
       "    </tr>\n",
       "    <tr>\n",
       "      <th>362</th>\n",
       "      <td>12086</td>\n",
       "      <td>NaN</td>\n",
       "      <td>NaN</td>\n",
       "      <td>153.482696</td>\n",
       "      <td>1.433934</td>\n",
       "      <td>20.223056</td>\n",
       "      <td>126.183320</td>\n",
       "    </tr>\n",
       "    <tr>\n",
       "      <th>548</th>\n",
       "      <td>15005</td>\n",
       "      <td>NaN</td>\n",
       "      <td>NaN</td>\n",
       "      <td>0.318191</td>\n",
       "      <td>0.000000</td>\n",
       "      <td>0.000000</td>\n",
       "      <td>0.150673</td>\n",
       "    </tr>\n",
       "    <tr>\n",
       "      <th>2412</th>\n",
       "      <td>46102</td>\n",
       "      <td>NaN</td>\n",
       "      <td>NaN</td>\n",
       "      <td>42.997933</td>\n",
       "      <td>0.000000</td>\n",
       "      <td>1.110654</td>\n",
       "      <td>30.250262</td>\n",
       "    </tr>\n",
       "    <tr>\n",
       "      <th>3144</th>\n",
       "      <td>60040</td>\n",
       "      <td>NaN</td>\n",
       "      <td>NaN</td>\n",
       "      <td>0.024838</td>\n",
       "      <td>0.000000</td>\n",
       "      <td>0.000000</td>\n",
       "      <td>0.000000</td>\n",
       "    </tr>\n",
       "    <tr>\n",
       "      <th>3169</th>\n",
       "      <td>72039</td>\n",
       "      <td>NaN</td>\n",
       "      <td>NaN</td>\n",
       "      <td>5.017921</td>\n",
       "      <td>0.000000</td>\n",
       "      <td>1.063908</td>\n",
       "      <td>2.213581</td>\n",
       "    </tr>\n",
       "    <tr>\n",
       "      <th>3185</th>\n",
       "      <td>72069</td>\n",
       "      <td>NaN</td>\n",
       "      <td>NaN</td>\n",
       "      <td>7.709177</td>\n",
       "      <td>0.596204</td>\n",
       "      <td>1.325550</td>\n",
       "      <td>4.895184</td>\n",
       "    </tr>\n",
       "  </tbody>\n",
       "</table>\n",
       "</div>"
      ],
      "text/plain": [
       "     County_code Name State  Total_length  Primary_length  Secondary_length  \\\n",
       "76         02105  NaN   NaN      7.291885        0.000000          0.133991   \n",
       "81         02158  NaN   NaN      8.919340        0.000000          0.000000   \n",
       "87         02195  NaN   NaN      7.293124        0.000000          0.599208   \n",
       "88         02198  NaN   NaN     19.046486        0.000000          1.368866   \n",
       "90         02230  NaN   NaN      1.753407        0.000000          0.478176   \n",
       "93         02275  NaN   NaN      2.896570        0.000000          0.000000   \n",
       "251        08014  NaN   NaN      8.344418        0.196412          1.456495   \n",
       "362        12086  NaN   NaN    153.482696        1.433934         20.223056   \n",
       "548        15005  NaN   NaN      0.318191        0.000000          0.000000   \n",
       "2412       46102  NaN   NaN     42.997933        0.000000          1.110654   \n",
       "3144       60040  NaN   NaN      0.024838        0.000000          0.000000   \n",
       "3169       72039  NaN   NaN      5.017921        0.000000          1.063908   \n",
       "3185       72069  NaN   NaN      7.709177        0.596204          1.325550   \n",
       "\n",
       "      Local_length  \n",
       "76        5.620579  \n",
       "81        2.243305  \n",
       "87        4.404794  \n",
       "88       14.739086  \n",
       "90        0.717040  \n",
       "93        1.968931  \n",
       "251       5.694466  \n",
       "362     126.183320  \n",
       "548       0.150673  \n",
       "2412     30.250262  \n",
       "3144      0.000000  \n",
       "3169      2.213581  \n",
       "3185      4.895184  "
      ]
     },
     "execution_count": 152,
     "metadata": {},
     "output_type": "execute_result"
    }
   ],
   "source": [
    "length_code_df[pd.isna(length_code_df['Name'])]"
   ]
  },
  {
   "cell_type": "code",
   "execution_count": 164,
   "metadata": {},
   "outputs": [],
   "source": [
    "# Adding county code 02198\n",
    "\n",
    "length_state_df.loc['NY'] = length_code_df.iloc[88, [3, 4, 5, 6]] + length_state_df.loc['NY']"
   ]
  },
  {
   "cell_type": "markdown",
   "metadata": {},
   "source": [
    "Since none of the \"shared county code\" areas (which are in American Samoa, Northern Mariana Islands and Guam) are in the 50 states, those respective records are not considered. And the exsiting rows of the insular areas are to be removed:"
   ]
  },
  {
   "cell_type": "code",
   "execution_count": 174,
   "metadata": {},
   "outputs": [],
   "source": [
    "length_state_df.drop(['AS', 'IA', 'MP', 'PR', 'VI'], inplace = True)"
   ]
  },
  {
   "cell_type": "code",
   "execution_count": 176,
   "metadata": {},
   "outputs": [
    {
     "data": {
      "text/plain": [
       "50"
      ]
     },
     "execution_count": 176,
     "metadata": {},
     "output_type": "execute_result"
    }
   ],
   "source": [
    "len(length_state_df)  # 50 states"
   ]
  },
  {
   "cell_type": "markdown",
   "metadata": {},
   "source": [
    "#### Write to csv:"
   ]
  },
  {
   "cell_type": "code",
   "execution_count": 93,
   "metadata": {},
   "outputs": [],
   "source": [
    "length_code_df.to_csv('Road_comb_county.csv', index = False)"
   ]
  },
  {
   "cell_type": "code",
   "execution_count": 177,
   "metadata": {},
   "outputs": [],
   "source": [
    "length_state_df.to_csv('Road_comb_state.csv', index = True)"
   ]
  },
  {
   "cell_type": "code",
   "execution_count": 181,
   "metadata": {},
   "outputs": [],
   "source": [
    "# Save the unmatched records\n",
    "\n",
    "unmatched_df = length_code_df[pd.isna(length_code_df['Name'])]\n",
    "unmatched_df.drop([88], inplace = True)\n",
    "\n",
    "unmatched_df.to_csv('Road_unmatched.csv', index = False)"
   ]
  }
 ],
 "metadata": {
  "kernelspec": {
   "display_name": "Python 3",
   "language": "python",
   "name": "python3"
  },
  "language_info": {
   "codemirror_mode": {
    "name": "ipython",
    "version": 3
   },
   "file_extension": ".py",
   "mimetype": "text/x-python",
   "name": "python",
   "nbconvert_exporter": "python",
   "pygments_lexer": "ipython3",
   "version": "3.7.6"
  }
 },
 "nbformat": 4,
 "nbformat_minor": 2
}
